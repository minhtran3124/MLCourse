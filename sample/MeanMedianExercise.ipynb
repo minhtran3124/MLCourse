{
 "cells": [
  {
   "cell_type": "code",
   "execution_count": 1,
   "id": "956f93b0",
   "metadata": {},
   "outputs": [],
   "source": [
    "# Exercise: Mean & Median Custom Spend"
   ]
  },
  {
   "cell_type": "code",
   "execution_count": 2,
   "id": "b55495d5",
   "metadata": {
    "scrolled": true
   },
   "outputs": [
    {
     "data": {
      "image/png": "[encoded data removed]",
      "text/plain": [
       "<Figure size 432x288 with 1 Axes>"
      ]
     },
     "metadata": {
      "needs_background": "light"
     },
     "output_type": "display_data"
    }
   ],
   "source": [
    "import numpy as np\n",
    "import matplotlib.pyplot as plt\n",
    "from scipy import stats\n",
    "\n",
    "incomes = np.random.normal(100.0, 20.0, 10000000)\n",
    "\n",
    "plt.hist(incomes, 50)\n",
    "plt.show()"
   ]
  },
  {
   "cell_type": "code",
   "execution_count": 3,
   "id": "208d0a52",
   "metadata": {},
   "outputs": [],
   "source": [
    "# find the mean and median of this data"
   ]
  },
  {
   "cell_type": "code",
   "execution_count": 4,
   "id": "ea9b2839",
   "metadata": {},
   "outputs": [
    {
     "data": {
      "text/plain": [
       "100.01011022424674"
      ]
     },
     "execution_count": 4,
     "metadata": {},
     "output_type": "execute_result"
    }
   ],
   "source": [
    "np.median(incomes)"
   ]
  },
  {
   "cell_type": "code",
   "execution_count": 5,
   "id": "1f32ee32",
   "metadata": {},
   "outputs": [
    {
     "data": {
      "text/plain": [
       "100.0122125457613"
      ]
     },
     "execution_count": 5,
     "metadata": {},
     "output_type": "execute_result"
    }
   ],
   "source": [
    "np.mean(incomes)"
   ]
  },
  {
   "cell_type": "code",
   "execution_count": 6,
   "id": "d06cb436",
   "metadata": {},
   "outputs": [
    {
     "data": {
      "text/plain": [
       "ModeResult(mode=array([-1.60572719]), count=array([1]))"
      ]
     },
     "execution_count": 6,
     "metadata": {},
     "output_type": "execute_result"
    }
   ],
   "source": [
    "stats.mode(incomes)"
   ]
  },
  {
   "cell_type": "code",
   "execution_count": 7,
   "id": "b0186681",
   "metadata": {},
   "outputs": [],
   "source": [
    "incomes = np.append(incomes, [1000000])"
   ]
  },
  {
   "cell_type": "code",
   "execution_count": 8,
   "id": "cc094640",
   "metadata": {},
   "outputs": [
    {
     "data": {
      "text/plain": [
       "100.01011252968327"
      ]
     },
     "execution_count": 8,
     "metadata": {},
     "output_type": "execute_result"
    }
   ],
   "source": [
    "np.median(incomes)"
   ]
  },
  {
   "cell_type": "code",
   "execution_count": 9,
   "id": "e1d42c1e",
   "metadata": {},
   "outputs": [
    {
     "data": {
      "text/plain": [
       "100.01011252968327"
      ]
     },
     "execution_count": 9,
     "metadata": {},
     "output_type": "execute_result"
    }
   ],
   "source": [
    "np.median(incomes)"
   ]
  },
  {
   "cell_type": "code",
   "execution_count": null,
   "id": "289de2c2",
   "metadata": {},
   "outputs": [],
   "source": []
  }
 ],
 "metadata": {
  "kernelspec": {
   "display_name": "Python 3 (ipykernel)",
   "language": "python",
   "name": "python3"
  },
  "language_info": {
   "codemirror_mode": {
    "name": "ipython",
    "version": 3
   },
   "file_extension": ".py",
   "mimetype": "text/x-python",
   "name": "python",
   "nbconvert_exporter": "python",
   "pygments_lexer": "ipython3",
   "version": "3.9.12"
  }
 },
 "nbformat": 4,
 "nbformat_minor": 5
}
