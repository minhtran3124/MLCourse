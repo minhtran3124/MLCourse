{
 "cells": [
  {
   "cell_type": "code",
   "execution_count": 3,
   "id": "f2a16f09",
   "metadata": {},
   "outputs": [],
   "source": [
    "import numpy as np"
   ]
  },
  {
   "cell_type": "code",
   "execution_count": 4,
   "id": "93297cf8",
   "metadata": {},
   "outputs": [
    {
     "data": {
      "text/plain": [
       "27276.95117555238"
      ]
     },
     "execution_count": 4,
     "metadata": {},
     "output_type": "execute_result"
    }
   ],
   "source": [
    "incomes = np.random.normal(27000, 15000, 10000)\n",
    "np.mean(incomes)"
   ]
  },
  {
   "cell_type": "code",
   "execution_count": 5,
   "id": "d23283e0",
   "metadata": {},
   "outputs": [
    {
     "data": {
      "text/plain": [
       "array([17664.95187571, 30046.03748949, 76975.41472287, ...,\n",
       "       50684.38855567, 56590.11407407, 39859.80768786])"
      ]
     },
     "execution_count": 5,
     "metadata": {},
     "output_type": "execute_result"
    }
   ],
   "source": [
    "incomes"
   ]
  },
  {
   "cell_type": "code",
   "execution_count": 6,
   "id": "0a2317fe",
   "metadata": {},
   "outputs": [
    {
     "data": {
      "image/png": "[encoded data removed]",
      "text/plain": [
       "<Figure size 432x288 with 1 Axes>"
      ]
     },
     "metadata": {
      "needs_background": "light"
     },
     "output_type": "display_data"
    }
   ],
   "source": [
    "%matplotlib inline\n",
    "import matplotlib.pyplot as plt\n",
    "plt.hist(incomes, 50)\n",
    "plt.show()"
   ]
  },
  {
   "cell_type": "code",
   "execution_count": 7,
   "id": "534680b1",
   "metadata": {},
   "outputs": [],
   "source": [
    "# now compute the median - sunce we have a nice, even distribution it too should be close to 27,000"
   ]
  },
  {
   "cell_type": "code",
   "execution_count": 8,
   "id": "d8a72016",
   "metadata": {},
   "outputs": [
    {
     "data": {
      "text/plain": [
       "27272.12556028192"
      ]
     },
     "execution_count": 8,
     "metadata": {},
     "output_type": "execute_result"
    }
   ],
   "source": [
    "np.median(incomes)"
   ]
  },
  {
   "cell_type": "code",
   "execution_count": 9,
   "id": "0d1df8cf",
   "metadata": {},
   "outputs": [
    {
     "data": {
      "text/plain": [
       "27276.95117555238"
      ]
     },
     "execution_count": 9,
     "metadata": {},
     "output_type": "execute_result"
    }
   ],
   "source": [
    "np.mean(incomes)"
   ]
  },
  {
   "cell_type": "code",
   "execution_count": 10,
   "id": "da30a8bf",
   "metadata": {},
   "outputs": [],
   "source": [
    "# now we will add Jeff Bezos into the mix. Darn income inequality"
   ]
  },
  {
   "cell_type": "code",
   "execution_count": 11,
   "id": "cbf3407f",
   "metadata": {},
   "outputs": [],
   "source": [
    "incomes = np.append(incomes, [1000000000])"
   ]
  },
  {
   "cell_type": "code",
   "execution_count": 12,
   "id": "85d8ffae",
   "metadata": {},
   "outputs": [],
   "source": [
    "# the media won't change much"
   ]
  },
  {
   "cell_type": "code",
   "execution_count": 13,
   "id": "77a511c6",
   "metadata": {},
   "outputs": [
    {
     "data": {
      "text/plain": [
       "27272.804000316075"
      ]
     },
     "execution_count": 13,
     "metadata": {},
     "output_type": "execute_result"
    }
   ],
   "source": [
    "np.median(incomes)"
   ]
  },
  {
   "cell_type": "code",
   "execution_count": 14,
   "id": "a96922d7",
   "metadata": {},
   "outputs": [
    {
     "data": {
      "text/plain": [
       "127264.22475307705"
      ]
     },
     "execution_count": 14,
     "metadata": {},
     "output_type": "execute_result"
    }
   ],
   "source": [
    "np.mean(incomes)"
   ]
  },
  {
   "cell_type": "code",
   "execution_count": 15,
   "id": "ed8ecaf7",
   "metadata": {},
   "outputs": [],
   "source": [
    "### MODE"
   ]
  },
  {
   "cell_type": "code",
   "execution_count": 16,
   "id": "55e1e1ef",
   "metadata": {
    "scrolled": true
   },
   "outputs": [
    {
     "data": {
      "text/plain": [
       "array([59, 46, 48, 89, 69, 20, 34, 52, 26, 29, 27, 89, 87, 83, 18, 52, 33,\n",
       "       74, 58, 33, 38, 85, 84, 44, 70, 34, 86, 88, 38, 41, 86, 55, 76, 68,\n",
       "       76, 56, 35, 85, 30, 63, 27, 40, 75, 47, 34, 71, 62, 70, 83, 60, 25,\n",
       "       28, 84, 86, 72, 22, 43, 34, 78, 40, 24, 28, 27, 61, 45, 79, 55, 24,\n",
       "       52, 51, 55, 18, 19, 25, 89, 87, 35, 33, 23, 30, 71, 67, 37, 29, 19,\n",
       "       66, 73, 85, 46, 26, 37, 31, 85, 38, 54, 83, 44, 88, 25, 56, 23, 31,\n",
       "       64, 56, 35, 61, 88, 18, 20, 63, 50, 18, 70, 88, 76, 48, 41, 70, 68,\n",
       "       44, 58, 75, 18, 26, 43, 76, 21, 26, 87, 32, 41, 56, 48, 60, 73, 86,\n",
       "       37, 34, 25, 30, 21, 53, 26, 63, 27, 50, 25, 35, 18, 39, 46, 86, 70,\n",
       "       89, 55, 33, 38, 34, 70, 79, 38, 67, 53, 51, 47, 62, 55, 67, 46, 82,\n",
       "       37, 84, 29, 82, 35, 72, 87, 86, 54, 88, 30, 26, 19, 58, 32, 25, 51,\n",
       "       35, 46, 60, 32, 55, 59, 89, 40, 49, 52, 33, 27, 73, 52, 37, 82, 60,\n",
       "       56, 87, 47, 36, 58, 59, 63, 49, 44, 47, 50, 20, 79, 73, 28, 20, 78,\n",
       "       66, 18, 48, 87, 73, 27, 43, 73, 45, 36, 74, 19, 80, 72, 48, 35, 68,\n",
       "       41, 62, 56, 28, 54, 25, 22, 55, 64, 39, 56, 73, 86, 47, 48, 60, 64,\n",
       "       81, 51, 28, 44, 56, 24, 58, 56, 86, 79, 48, 71, 74, 49, 50, 85, 34,\n",
       "       18, 56, 83, 35, 69, 60, 67, 77, 68, 54, 55, 30, 49, 85, 76, 52, 22,\n",
       "       74, 87, 69, 46, 59, 65, 83, 35, 45, 72, 71, 85, 47, 56, 50, 69, 60,\n",
       "       22, 58, 45, 86, 38, 21, 32, 47, 42, 39, 52, 40, 58, 22, 80, 59, 26,\n",
       "       64, 64, 21, 66, 44, 80, 44, 22, 43, 84, 77, 45, 61, 52, 69, 88, 58,\n",
       "       27, 42, 33, 66, 28, 77, 53, 80, 85, 66, 45, 66, 32, 70, 84, 59, 31,\n",
       "       31, 82, 51, 34, 20, 18, 39, 58, 31, 22, 68, 49, 56, 68, 82, 88, 34,\n",
       "       20, 41, 39, 76, 37, 24, 82, 46, 36, 29, 42, 37, 57, 53, 63, 46, 45,\n",
       "       32, 77, 43, 44, 66, 60, 76, 52, 82, 22, 74, 40, 48, 72, 45, 33, 19,\n",
       "       70, 28, 45, 66, 86, 59, 76, 41, 83, 77, 46, 81, 79, 19, 69, 54, 40,\n",
       "       74, 22, 25, 55, 71, 62, 88, 85, 28, 59, 31, 25, 40, 31, 20, 33, 27,\n",
       "       81, 60, 41, 79, 29, 37, 77, 44, 26, 85, 66, 41, 89, 73, 85, 42, 43,\n",
       "       86, 76, 87, 30, 70, 87, 46, 19, 89, 67, 55, 21, 30, 44, 79, 39, 39,\n",
       "       70, 26, 50, 72, 68, 76, 31, 60, 27, 76, 56, 82, 34, 43, 76, 62, 21,\n",
       "       63, 33, 71, 27, 20, 84, 27])"
      ]
     },
     "execution_count": 16,
     "metadata": {},
     "output_type": "execute_result"
    }
   ],
   "source": [
    "ages = np.random.randint(18, high=90, size=500)\n",
    "ages"
   ]
  },
  {
   "cell_type": "code",
   "execution_count": 17,
   "id": "459d244a",
   "metadata": {},
   "outputs": [
    {
     "data": {
      "text/plain": [
       "ModeResult(mode=array([56]), count=array([13]))"
      ]
     },
     "execution_count": 17,
     "metadata": {},
     "output_type": "execute_result"
    }
   ],
   "source": [
    "from scipy import stats\n",
    "stats.mode(ages)"
   ]
  },
  {
   "cell_type": "code",
   "execution_count": null,
   "id": "f1436616",
   "metadata": {},
   "outputs": [],
   "source": []
  }
 ],
 "metadata": {
  "kernelspec": {
   "display_name": "Python 3 (ipykernel)",
   "language": "python",
   "name": "python3"
  },
  "language_info": {
   "codemirror_mode": {
    "name": "ipython",
    "version": 3
   },
   "file_extension": ".py",
   "mimetype": "text/x-python",
   "name": "python",
   "nbconvert_exporter": "python",
   "pygments_lexer": "ipython3",
   "version": "3.9.12"
  }
 },
 "nbformat": 4,
 "nbformat_minor": 5
}
