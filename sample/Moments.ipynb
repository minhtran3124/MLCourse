{
 "cells": [
  {
   "cell_type": "code",
   "execution_count": 1,
   "id": "78c9e831",
   "metadata": {},
   "outputs": [],
   "source": [
    "import numpy as np\n",
    "import matplotlib.pyplot as plt\n",
    "from scipy import stats"
   ]
  },
  {
   "cell_type": "code",
   "execution_count": 10,
   "id": "6a2c8f79",
   "metadata": {},
   "outputs": [
    {
     "data": {
      "image/png": "[encoded data removed]",
      "text/plain": [
       "<Figure size 432x288 with 1 Axes>"
      ]
     },
     "metadata": {
      "needs_background": "light"
     },
     "output_type": "display_data"
    }
   ],
   "source": [
    "vals = np.random.normal(0, 1, 40000)\n",
    "\n",
    "plt.hist(vals, 50)\n",
    "plt.show()\n"
   ]
  },
  {
   "cell_type": "markdown",
   "id": "6b76b153",
   "metadata": {},
   "source": [
    "The first moment is the mean"
   ]
  },
  {
   "cell_type": "code",
   "execution_count": 11,
   "id": "b940fbc5",
   "metadata": {},
   "outputs": [
    {
     "data": {
      "text/plain": [
       "0.0009565136073625769"
      ]
     },
     "execution_count": 11,
     "metadata": {},
     "output_type": "execute_result"
    }
   ],
   "source": [
    "np.mean(vals)"
   ]
  },
  {
   "cell_type": "markdown",
   "id": "1f9a3c57",
   "metadata": {},
   "source": [
    "The second moment is variance"
   ]
  },
  {
   "cell_type": "code",
   "execution_count": 12,
   "id": "56f90590",
   "metadata": {},
   "outputs": [
    {
     "data": {
      "text/plain": [
       "1.0092190612621206"
      ]
     },
     "execution_count": 12,
     "metadata": {},
     "output_type": "execute_result"
    }
   ],
   "source": [
    "np.var(vals)"
   ]
  },
  {
   "cell_type": "markdown",
   "id": "d143c11d",
   "metadata": {},
   "source": [
    "The third moment is skew, since our data is nicely around 0, it should be almost 0"
   ]
  },
  {
   "cell_type": "code",
   "execution_count": 13,
   "id": "0e949f2b",
   "metadata": {},
   "outputs": [
    {
     "data": {
      "text/plain": [
       "0.004590606867878139"
      ]
     },
     "execution_count": 13,
     "metadata": {},
     "output_type": "execute_result"
    }
   ],
   "source": [
    "import scipy.stats as sp\n",
    "sp.skew(vals)"
   ]
  },
  {
   "cell_type": "markdown",
   "id": "d94410d0",
   "metadata": {},
   "source": [
    "The fourth moment is \"Kurtosis\", which describe the shape of the tail. For a normal distribution, this is 0"
   ]
  },
  {
   "cell_type": "code",
   "execution_count": 14,
   "id": "05fd69be",
   "metadata": {},
   "outputs": [
    {
     "data": {
      "text/plain": [
       "0.0345934056667927"
      ]
     },
     "execution_count": 14,
     "metadata": {},
     "output_type": "execute_result"
    }
   ],
   "source": [
    "sp.kurtosis(vals)"
   ]
  },
  {
   "cell_type": "code",
   "execution_count": null,
   "id": "4ab19058",
   "metadata": {},
   "outputs": [],
   "source": []
  },
  {
   "cell_type": "code",
   "execution_count": null,
   "id": "e154fee7",
   "metadata": {},
   "outputs": [],
   "source": []
  }
 ],
 "metadata": {
  "kernelspec": {
   "display_name": "Python 3 (ipykernel)",
   "language": "python",
   "name": "python3"
  },
  "language_info": {
   "codemirror_mode": {
    "name": "ipython",
    "version": 3
   },
   "file_extension": ".py",
   "mimetype": "text/x-python",
   "name": "python",
   "nbconvert_exporter": "python",
   "pygments_lexer": "ipython3",
   "version": "3.9.7"
  }
 },
 "nbformat": 4,
 "nbformat_minor": 5
}
